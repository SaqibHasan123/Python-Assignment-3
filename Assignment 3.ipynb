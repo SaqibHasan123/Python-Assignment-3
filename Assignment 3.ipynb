{
 "cells": [
  {
   "cell_type": "code",
   "execution_count": 17,
   "metadata": {},
   "outputs": [
    {
     "name": "stdout",
     "output_type": "stream",
     "text": [
      "Enter number 1 2\n",
      "Enter number 2 3\n",
      "Enter your choice from the following \n",
      "+,-,*,/,pwr pwr\n",
      "8\n"
     ]
    }
   ],
   "source": [
    "#Question 1\n",
    "\n",
    "num1= int(input(\"Enter number 1 \" ))\n",
    "num2= int(input(\"Enter number 2 \" ))\n",
    "print (\"Enter your choice from the following \")\n",
    "choice= input (\"+,-,*,/,pwr \")\n",
    "if choice == '+':\n",
    " print (num1+num2)\n",
    "elif  choice == '-':\n",
    " print (num1-num2)\n",
    "elif  choice == '*':\n",
    " print (num1*num2)\n",
    "elif  choice == '/':\n",
    " print (num1/num2)\n",
    "elif  choice == 'pwr': \n",
    " print (num1**num2)\n",
    "else:\n",
    " print (\"Invalid input \")"
   ]
  },
  {
   "cell_type": "code",
   "execution_count": 21,
   "metadata": {},
   "outputs": [
    {
     "ename": "TypeError",
     "evalue": "can only concatenate list (not \"str\") to list",
     "output_type": "error",
     "traceback": [
      "\u001b[1;31m---------------------------------------------------------------------------\u001b[0m",
      "\u001b[1;31mTypeError\u001b[0m                                 Traceback (most recent call last)",
      "\u001b[1;32m<ipython-input-21-efa782282c01>\u001b[0m in \u001b[0;36m<module>\u001b[1;34m\u001b[0m\n\u001b[0;32m      3\u001b[0m \u001b[0mn\u001b[0m \u001b[1;33m=\u001b[0m \u001b[1;33m[\u001b[0m\u001b[1;36m3\u001b[0m\u001b[1;33m,\u001b[0m \u001b[1;36m1\u001b[0m\u001b[1;33m,\u001b[0m \u001b[1;36m88\u001b[0m\u001b[1;33m,\u001b[0m \u001b[1;36m7\u001b[0m\u001b[1;33m,\u001b[0m \u001b[1;36m20\u001b[0m\u001b[1;33m,\u001b[0m \u001b[1;36m95\u001b[0m\u001b[1;33m,\u001b[0m \u001b[1;36m26\u001b[0m\u001b[1;33m,\u001b[0m \u001b[1;36m7\u001b[0m\u001b[1;33m,\u001b[0m \u001b[1;36m9\u001b[0m\u001b[1;33m,\u001b[0m \u001b[1;36m34\u001b[0m\u001b[1;33m]\u001b[0m\u001b[1;33m\u001b[0m\u001b[1;33m\u001b[0m\u001b[0m\n\u001b[0;32m      4\u001b[0m \u001b[1;32mif\u001b[0m \u001b[1;36m26\u001b[0m \u001b[1;32min\u001b[0m \u001b[0mn\u001b[0m\u001b[1;33m:\u001b[0m\u001b[1;33m\u001b[0m\u001b[1;33m\u001b[0m\u001b[0m\n\u001b[1;32m----> 5\u001b[1;33m    \u001b[0mprint\u001b[0m\u001b[1;33m:\u001b[0m \u001b[1;33m(\u001b[0m\u001b[0mn\u001b[0m \u001b[1;33m+\u001b[0m \u001b[1;34m\"is present in the list\"\u001b[0m\u001b[1;33m)\u001b[0m\u001b[1;33m\u001b[0m\u001b[1;33m\u001b[0m\u001b[0m\n\u001b[0m\u001b[0;32m      6\u001b[0m \u001b[1;32melse\u001b[0m \u001b[1;33m:\u001b[0m\u001b[1;33m\u001b[0m\u001b[1;33m\u001b[0m\u001b[0m\n\u001b[0;32m      7\u001b[0m     \u001b[0mprint\u001b[0m \u001b[1;33m(\u001b[0m\u001b[0mn\u001b[0m \u001b[1;33m+\u001b[0m\u001b[1;34m\" is not present in list\"\u001b[0m\u001b[1;33m)\u001b[0m\u001b[1;33m\u001b[0m\u001b[1;33m\u001b[0m\u001b[0m\n",
      "\u001b[1;31mTypeError\u001b[0m: can only concatenate list (not \"str\") to list"
     ]
    }
   ],
   "source": [
    "#Question 2\n",
    "\n",
    "n = [3, 1, 88, 7, 20, 95, 26, 7, 9, 34]\n",
    "if 26 in n:\n",
    "   print: (n + \"is present in the list\")\n",
    "else :\n",
    "    print (n +\" is not present in list\")"
   ]
  },
  {
   "cell_type": "code",
   "execution_count": 23,
   "metadata": {},
   "outputs": [
    {
     "name": "stdout",
     "output_type": "stream",
     "text": [
      "Please enter the Key : address\n",
      "Please enter the Value : 5\n",
      "\n",
      "Updated Dictionary =  {'address': '5'}\n"
     ]
    }
   ],
   "source": [
    "#Question 3\n",
    "\n",
    "key = input(\"Please enter the Key : \")\n",
    "value = input(\"Please enter the Value : \")\n",
    "\n",
    "myDict = {}\n",
    "\n",
    "myDict.update({key:value})\n",
    "print(\"\\nUpdated Dictionary = \", myDict)"
   ]
  },
  {
   "cell_type": "code",
   "execution_count": 25,
   "metadata": {},
   "outputs": [
    {
     "name": "stdout",
     "output_type": "stream",
     "text": [
      "Sum of values in the dictionary:\n",
      "103\n"
     ]
    }
   ],
   "source": [
    "#Question 4\n",
    "\n",
    "s={'A':10,'B':54,'C':39}\n",
    "print(\"Sum of values in the dictionary:\")\n",
    "print(sum(s.values()))\n"
   ]
  },
  {
   "cell_type": "code",
   "execution_count": 28,
   "metadata": {},
   "outputs": [
    {
     "name": "stdout",
     "output_type": "stream",
     "text": [
      "[6, 7, 15, 15, 20, 20, 20, 30, 40, 40, 50, 50]\n",
      "[15, 20, 40, 50]\n"
     ]
    }
   ],
   "source": [
    "#Question 5\n",
    "\n",
    "a = [20,20,30,40,50,15,20,40,50,15,6,7]\n",
    " \n",
    "a.sort()\n",
    "print(a)\n",
    " \n",
    "b = sorted(set(a))\n",
    "dup_list =[]\n",
    " \n",
    " \n",
    "for i in range(len(b)):\n",
    "        if (a.count(b[i]) > 1 ):\n",
    "            dup_list.append(b[i])\n",
    "        \n",
    "print(dup_list) "
   ]
  },
  {
   "cell_type": "code",
   "execution_count": 29,
   "metadata": {},
   "outputs": [
    {
     "name": "stdout",
     "output_type": "stream",
     "text": [
      "Key is present in the dictionary\n",
      "Key is not present in the dictionary\n"
     ]
    }
   ],
   "source": [
    "#Question 6\n",
    "\n",
    "d = {1: 10, 2: 20, 3: 30, 4: 40, 5: 50, 6: 60}\n",
    "def is_key_present(x):\n",
    "  if x in d:\n",
    "      print('Key is present in the dictionary')\n",
    "  else:\n",
    "      print('Key is not present in the dictionary')\n",
    "is_key_present(5)\n",
    "is_key_present(9)"
   ]
  },
  {
   "cell_type": "code",
   "execution_count": null,
   "metadata": {},
   "outputs": [],
   "source": []
  }
 ],
 "metadata": {
  "kernelspec": {
   "display_name": "Python 3",
   "language": "python",
   "name": "python3"
  }
 },
 "nbformat": 4,
 "nbformat_minor": 2
}
