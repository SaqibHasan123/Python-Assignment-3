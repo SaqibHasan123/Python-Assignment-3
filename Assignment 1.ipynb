{
 "cells": [
  {
   "cell_type": "code",
   "execution_count": 43,
   "metadata": {},
   "outputs": [
    {
     "name": "stdout",
     "output_type": "stream",
     "text": [
      "Twinkle, twinkle litte star,\n",
      "\tHow I wonder what you are!\n",
      "\t\tUp above the world so high,\n",
      "\t\tLike a diamond in the sky.\n",
      "Twinkle, twinkle litte star,\n",
      "\tHow I wonder what you are!\n"
     ]
    }
   ],
   "source": [
    "#Question 1\n",
    "print(\"Twinkle, twinkle litte star,\\n\\tHow I wonder what you are!\")\n",
    "print(\"\\t\\tUp above the world so high,\\n\\t\\tLike a diamond in the sky.\")\n",
    "print(\"Twinkle, twinkle litte star,\\n\\tHow I wonder what you are!\")"
   ]
  },
  {
   "cell_type": "code",
   "execution_count": 12,
   "metadata": {},
   "outputs": [
    {
     "name": "stdout",
     "output_type": "stream",
     "text": [
      "3.7.4 (default, Aug  9 2019, 18:34:13) [MSC v.1915 64 bit (AMD64)]\n"
     ]
    }
   ],
   "source": [
    "#Question 2\n",
    "import sys\n",
    "print(sys.version)"
   ]
  },
  {
   "cell_type": "code",
   "execution_count": 44,
   "metadata": {},
   "outputs": [
    {
     "name": "stdout",
     "output_type": "stream",
     "text": [
      "Date(Year,Month,Date) 2019-11-03\n",
      "Time(Hour,Minutes,Seconds) 21:08:16.650450\n"
     ]
    }
   ],
   "source": [
    "#Question 3\n",
    "from datetime import datetime\n",
    "x = datetime.now()\n",
    "print(\"Date(Year,Month,Date)\" ,x.date())\n",
    "print(\"Time(Hour,Minutes,Seconds)\" ,x.time())"
   ]
  },
  {
   "cell_type": "code",
   "execution_count": 15,
   "metadata": {},
   "outputs": [
    {
     "name": "stdout",
     "output_type": "stream",
     "text": [
      "Radius of circle is 6.8\n",
      "Area of the circle is  145.267244301992\n"
     ]
    }
   ],
   "source": [
    "#Question 4\n",
    "import math\n",
    "r = float(input(\"Radius of circle is \"))\n",
    "Area = math.pi*(r**2)\n",
    "print(\"Area of the circle is \", Area)"
   ]
  },
  {
   "cell_type": "code",
   "execution_count": 31,
   "metadata": {},
   "outputs": [
    {
     "name": "stdout",
     "output_type": "stream",
     "text": [
      "First name: Saqib\n",
      "Last name: Hasan\n",
      "Orignal name  : Saqib Hasan\n",
      "Opposite order: Hasan Saqib\n",
      "Reverse order : nasaH biqaS\n"
     ]
    }
   ],
   "source": [
    "#Question 5\n",
    "def reverse_slicing(s):\n",
    "    return s[::-1]\n",
    "\n",
    "FirstName = input(\"First name: \")\n",
    "LastName = input(\"Last name: \")\n",
    "fullName = FirstName + \" \" + LastName\n",
    "fullName1= LastName + \" \" + FirstName\n",
    "print(\"Orignal name  :\",fullName)\n",
    "print(\"Opposite order:\",fullName1)\n",
    "print(\"Reverse order :\",reverse_slicing(fullName))\n"
   ]
  },
  {
   "cell_type": "code",
   "execution_count": 34,
   "metadata": {},
   "outputs": [
    {
     "name": "stdout",
     "output_type": "stream",
     "text": [
      "9\n",
      "11\n",
      "Ans is 20\n"
     ]
    }
   ],
   "source": [
    "#Question 6\n",
    "x = int(input())\n",
    "y = int(input())\n",
    "z= x+y\n",
    "print(\"Ans is\",z)"
   ]
  },
  {
   "cell_type": "code",
   "execution_count": null,
   "metadata": {},
   "outputs": [],
   "source": []
  }
 ],
 "metadata": {
  "kernelspec": {
   "display_name": "Python 3",
   "language": "python",
   "name": "python3"
  },
  "language_info": {
   "codemirror_mode": {
    "name": "ipython",
    "version": 3
   },
   "file_extension": ".py",
   "mimetype": "text/x-python",
   "name": "python",
   "nbconvert_exporter": "python",
   "pygments_lexer": "ipython3",
   "version": "3.7.4"
  }
 },
 "nbformat": 4,
 "nbformat_minor": 2
}
