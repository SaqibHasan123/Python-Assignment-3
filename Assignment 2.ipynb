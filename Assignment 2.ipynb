{
 "cells": [
  {
   "cell_type": "code",
   "execution_count": 6,
   "metadata": {},
   "outputs": [
    {
     "name": "stdout",
     "output_type": "stream",
     "text": [
      "Enter marks of subject 1 90\n",
      "Enter marks of subject 2 70\n",
      "Enter marks of subject 3 80\n",
      "Enter marks of subject 4 85\n",
      "Enter marks of subject 5 69\n",
      "Your percentage is grade is B\n"
     ]
    }
   ],
   "source": [
    "#Question1\n",
    "\n",
    "Sub1= int(input(\"Enter marks of subject 1 \"))\n",
    "Sub2= int(input(\"Enter marks of subject 2 \"))\n",
    "Sub3= int(input(\"Enter marks of subject 3 \"))\n",
    "Sub4= int(input(\"Enter marks of subject 4 \"))\n",
    "Sub5= int(input(\"Enter marks of subject 5 \"))\n",
    "tot=Sub1+Sub2+Sub3+Sub4+Sub5\n",
    "per=(tot/500)*100\n",
    "str(per)\n",
    "if per>=90 :\n",
    "    print(\"Your percentage is grade is A+\")\n",
    "elif per>=80 and per<90 :\n",
    "    print(\"Your percentage is grade is A\")\n",
    "elif per>=70 and per<80 :\n",
    "    print(\"Your percentage is grade is B\")\n",
    "elif per>=60 and per<70 :\n",
    "    print(\"Your percentage is grade is C\")\n",
    "elif per>=50 and per<60 :    \n",
    "    print(\"Your percentage is grade is D\") \n",
    "else :\n",
    "    print(\"You are FAIL\")"
   ]
  },
  {
   "cell_type": "code",
   "execution_count": 22,
   "metadata": {},
   "outputs": [
    {
     "name": "stdout",
     "output_type": "stream",
     "text": [
      "Enter a number: 16\n",
      "16 is Even\n"
     ]
    }
   ],
   "source": [
    "#Question2\n",
    "\n",
    "num = int(input(\"Enter a number: \"))\n",
    "if (num % 2) == 0:\n",
    "   print(\"{0} is Even\".format(num))\n",
    "else:\n",
    "   print(\"{0} is Odd\".format(num))"
   ]
  },
  {
   "cell_type": "code",
   "execution_count": 26,
   "metadata": {},
   "outputs": [
    {
     "name": "stdout",
     "output_type": "stream",
     "text": [
      "6\n"
     ]
    }
   ],
   "source": [
    "#Question3\n",
    "\n",
    "array = ['saad', 'saqib', 'hammad', 'Hello', 1, 2]\n",
    "list= len(array)\n",
    "print (list)"
   ]
  },
  {
   "cell_type": "code",
   "execution_count": 30,
   "metadata": {},
   "outputs": [
    {
     "name": "stdout",
     "output_type": "stream",
     "text": [
      "The sum is 21\n"
     ]
    }
   ],
   "source": [
    "#Question4\n",
    "\n",
    "array = [1, 2, 3, 4, 5, 6]\n",
    "sum = 0;\n",
    "for i in array:\n",
    "    sum = sum+i\n",
    "print(\"The sum is\", sum)"
   ]
  },
  {
   "cell_type": "code",
   "execution_count": 33,
   "metadata": {},
   "outputs": [
    {
     "name": "stdout",
     "output_type": "stream",
     "text": [
      "62\n"
     ]
    }
   ],
   "source": [
    "#Question5\n",
    "\n",
    "array = [12, 24, 36, 48, 50, 62]\n",
    "print (max(array))"
   ]
  },
  {
   "cell_type": "code",
   "execution_count": 46,
   "metadata": {},
   "outputs": [
    {
     "name": "stdout",
     "output_type": "stream",
     "text": [
      "[1, 1, 2, 3]\n"
     ]
    }
   ],
   "source": [
    "#Question6\n",
    "\n",
    "a = [1, 1, 2, 3, 5, 8, 13, 21, 34, 55, 89]\n",
    "\n",
    "print ([ x for x in a if x < 5 ])"
   ]
  },
  {
   "cell_type": "code",
   "execution_count": null,
   "metadata": {},
   "outputs": [],
   "source": []
  }
 ],
 "metadata": {
  "kernelspec": {
   "display_name": "Python 3",
   "language": "python",
   "name": "python3"
  },
  "language_info": {
   "codemirror_mode": {
    "name": "ipython",
    "version": 3
   },
   "file_extension": ".py",
   "mimetype": "text/x-python",
   "name": "python",
   "nbconvert_exporter": "python",
   "pygments_lexer": "ipython3",
   "version": "3.7.4"
  }
 },
 "nbformat": 4,
 "nbformat_minor": 2
}
